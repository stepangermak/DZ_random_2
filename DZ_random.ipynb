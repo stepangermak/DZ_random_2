{
 "cells": [
  {
   "cell_type": "markdown",
   "metadata": {},
   "source": [
    "Смоделировать игру против лотерейного автомата типа “777”. Игрок платит 1 руб., после чего выпадает случайное целое число, равномерно распределенное от 0 до 999. При некоторых значениях числа игрок получает выигрыш (см. справа)\n",
    "\n",
    "Выгодна ли игра игроку?\n",
    "\n",
    "Сколько в среднем приобретает\n",
    "или теряет игрок за одну игру?\n",
    "\n",
    "777: 200 руб.\n",
    "999: 100 руб.\n",
    "555: 50 руб.\n",
    "333: 15 руб.\n",
    "111: 10 руб.\n",
    "*77: 5 руб.\n",
    "**7: 3 руб.\n",
    "*00: 2 руб.\n",
    "**0: 1 руб."
   ]
  },
  {
   "cell_type": "code",
   "execution_count": 1,
   "metadata": {},
   "outputs": [],
   "source": [
    "import numpy as np"
   ]
  },
  {
   "cell_type": "code",
   "execution_count": 2,
   "metadata": {},
   "outputs": [],
   "source": [
    "cash = 1000 #количество попыток\n",
    "wallet = 0\n",
    "win = 0\n",
    "win_cash = 0\n",
    "lost_cash = 0\n",
    "for i in range(cash):\n",
    "    bet = 1\n",
    "    random_score = np.random.randint(1, 1000)\n",
    "    if random_score == 777:\n",
    "        wallet += 200\n",
    "        win += 1\n",
    "        win_cash = 0\n",
    "    elif random_score == 999:\n",
    "        wallet += 100\n",
    "        win += 1\n",
    "        win_cash = 0\n",
    "    elif random_score == 555:\n",
    "        wallet += 50\n",
    "        win += 1\n",
    "        win_cash = 0\n",
    "    elif random_score == 333:\n",
    "        wallet += 15\n",
    "        win += 1\n",
    "        win_cash = 0\n",
    "    elif random_score == 111:\n",
    "        wallet += 10\n",
    "        win += 1\n",
    "        win_cash = 0\n",
    "    elif random_score == 333:\n",
    "        wallet += 15\n",
    "        win += 1\n",
    "        win_cash = 0\n",
    "    elif random_score % 100 == 70:\n",
    "        wallet += 5\n",
    "        win += 1\n",
    "        win_cash = 0\n",
    "    elif random_score % 10 == 7:\n",
    "        wallet += 3\n",
    "        win += 3\n",
    "        win_cash = 0\n",
    "    elif random_score % 100 == 0:\n",
    "        wallet += 2\n",
    "        win += 2\n",
    "        win_cash = 0\n",
    "    elif random_score % 10 == 0:\n",
    "        wallet += 1\n",
    "        win += 1\n",
    "        win_cash = 0\n",
    "    else:\n",
    "        wallet -= bet\n",
    "        lost_cash -= bet"
   ]
  },
  {
   "cell_type": "code",
   "execution_count": 4,
   "metadata": {},
   "outputs": [
    {
     "name": "stdout",
     "output_type": "stream",
     "text": [
      "игра не выгодна\n",
      "игрок среднем теряет за одну игру: -0.812\n"
     ]
    }
   ],
   "source": [
    "# Выгодна игра или нет\n",
    "if wallet <= 0:\n",
    "    print('игра не выгодна')\n",
    "else:\n",
    "    print('игра выгодна')\n",
    "    \n",
    "#Сколько в среднем приобретает или теряет игрок за одну игру?\n",
    "# x = p1 * x1 + (1 - p1) * x2\n",
    "p1 = win / cash\n",
    "x1 = win_cash / win\n",
    "x2 = lost_cash / (cash - win)\n",
    "x = p1 * x1 + (1 - p1) * x2\n",
    "if x > 0:\n",
    "    print(f'игрок в среднем приобретает за одну игру: {x}')\n",
    "else:\n",
    "    print(f'игрок среднем теряет за одну игру: {x}')"
   ]
  },
  {
   "cell_type": "code",
   "execution_count": null,
   "metadata": {},
   "outputs": [],
   "source": []
  }
 ],
 "metadata": {
  "kernelspec": {
   "display_name": "Python 3",
   "language": "python",
   "name": "python3"
  },
  "language_info": {
   "codemirror_mode": {
    "name": "ipython",
    "version": 3
   },
   "file_extension": ".py",
   "mimetype": "text/x-python",
   "name": "python",
   "nbconvert_exporter": "python",
   "pygments_lexer": "ipython3",
   "version": "3.8.3"
  }
 },
 "nbformat": 4,
 "nbformat_minor": 4
}
